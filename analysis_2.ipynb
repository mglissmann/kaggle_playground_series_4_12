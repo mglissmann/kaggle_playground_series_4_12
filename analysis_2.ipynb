{
 "cells": [
  {
   "cell_type": "markdown",
   "metadata": {},
   "source": [
    "# Imports"
   ]
  },
  {
   "cell_type": "code",
   "execution_count": 4,
   "metadata": {},
   "outputs": [],
   "source": [
    "from sklearn.pipeline import Pipeline\n",
    "from sklearn.compose import ColumnTransformer\n",
    "from sklearn.preprocessing import StandardScaler, OneHotEncoder, OrdinalEncoder\n",
    "from sklearn.impute import SimpleImputer\n",
    "from sklearn.ensemble import RandomForestRegressor\n",
    "from sklearn.model_selection import train_test_split\n",
    "from sklearn.base import BaseEstimator, TransformerMixin\n",
    "import pandas as pd\n",
    "import numpy as np\n",
    "import logging\n",
    "from lightgbm import LGBMRegressor\n",
    "\n",
    "# Configure logging\n",
    "logging.basicConfig(level=logging.INFO)"
   ]
  },
  {
   "cell_type": "markdown",
   "metadata": {},
   "source": [
    "# Read Data"
   ]
  },
  {
   "cell_type": "code",
   "execution_count": 3,
   "metadata": {},
   "outputs": [],
   "source": [
    "train_data = pd.read_csv(filepath_or_buffer='data/train.csv')\n",
    "test_data = pd.read_csv(filepath_or_buffer='data/test.csv')"
   ]
  },
  {
   "cell_type": "markdown",
   "metadata": {},
   "source": [
    "# Data Preprocessing/Transformations"
   ]
  },
  {
   "cell_type": "markdown",
   "metadata": {},
   "source": [
    "## Explore"
   ]
  },
  {
   "cell_type": "code",
   "execution_count": 103,
   "metadata": {},
   "outputs": [
    {
     "name": "stdout",
     "output_type": "stream",
     "text": [
      "<class 'pandas.core.frame.DataFrame'>\n",
      "RangeIndex: 1200000 entries, 0 to 1199999\n",
      "Data columns (total 21 columns):\n",
      " #   Column                Non-Null Count    Dtype  \n",
      "---  ------                --------------    -----  \n",
      " 0   id                    1200000 non-null  int64  \n",
      " 1   Age                   1181295 non-null  float64\n",
      " 2   Gender                1200000 non-null  object \n",
      " 3   Annual Income         1155051 non-null  float64\n",
      " 4   Marital Status        1181471 non-null  object \n",
      " 5   Number of Dependents  1090328 non-null  float64\n",
      " 6   Education Level       1200000 non-null  object \n",
      " 7   Occupation            841925 non-null   object \n",
      " 8   Health Score          1125924 non-null  float64\n",
      " 9   Location              1200000 non-null  object \n",
      " 10  Policy Type           1200000 non-null  object \n",
      " 11  Previous Claims       835971 non-null   float64\n",
      " 12  Vehicle Age           1199994 non-null  float64\n",
      " 13  Credit Score          1062118 non-null  float64\n",
      " 14  Insurance Duration    1199999 non-null  float64\n",
      " 15  Policy Start Date     1200000 non-null  object \n",
      " 16  Customer Feedback     1122176 non-null  object \n",
      " 17  Smoking Status        1200000 non-null  object \n",
      " 18  Exercise Frequency    1200000 non-null  object \n",
      " 19  Property Type         1200000 non-null  object \n",
      " 20  Premium Amount        1200000 non-null  float64\n",
      "dtypes: float64(9), int64(1), object(11)\n",
      "memory usage: 192.3+ MB\n"
     ]
    }
   ],
   "source": [
    "train_data.info()"
   ]
  },
  {
   "cell_type": "code",
   "execution_count": 5,
   "metadata": {},
   "outputs": [],
   "source": [
    "class CleanseColumnNames(BaseEstimator, TransformerMixin):\n",
    "    def fit(self, X, y=None):\n",
    "        return self\n",
    "        \n",
    "    def transform(self, X):\n",
    "        X = X.copy()\n",
    "        logging.info(f\"CleanseColumnNames: Initial columns: {X.columns.tolist()}\")\n",
    "        X.columns = [col.lower().replace(' ', '_') for col in X.columns]\n",
    "        logging.info(f\"CleanseColumnNames: Transformed columns: {X.columns.tolist()}\")\n",
    "        return X\n",
    "\n",
    "class FeatureEngineering(BaseEstimator, TransformerMixin):\n",
    "    def fit(self, X, y=None):\n",
    "        return self\n",
    "\n",
    "    def transform(self, X):\n",
    "        X = X.copy()\n",
    "        logging.info(\"FeatureEngineering: Before:\")\n",
    "        logging.info(X.head())  # Adjust based on desired details\n",
    "        \n",
    "        X['contract_length'] = pd.cut(\n",
    "            X['insurance_duration'].fillna(99),\n",
    "            bins=[-float('inf'), 1, 3, float('inf')],\n",
    "            labels=[0, 1, 2]\n",
    "        ).astype(int)\n",
    "\n",
    "        X['income_per_dependent'] = X['annual_income'] / X['number_of_dependents'].replace(0, 1)\n",
    "        X['credit_score_per_insurance_duration'] = X['credit_score'] / X['insurance_duration']\n",
    "        \n",
    "        logging.info(\"FeatureEngineering: After:\")\n",
    "        logging.info(X.head())\n",
    "        return X\n",
    "\n",
    "\n",
    "def create_pipeline(numeric_features=None, ordinal_features=None, ordinal_categories=None, category_features=None):\n",
    "    \n",
    "    numeric_transformer = Pipeline(steps=[\n",
    "        ('imputer', SimpleImputer(strategy='median')),\n",
    "        ('scaler', StandardScaler())   \n",
    "    ])\n",
    "\n",
    "    ordinal_transformer = Pipeline(steps=[\n",
    "        ('imputer', SimpleImputer(strategy='constant', fill_value='missing')),\n",
    "        ('encoder', OrdinalEncoder(categories=[ordinal_categories['exercise_frequency']], handle_unknown='use_encoded_value', unknown_value=-1))\n",
    "    ])\n",
    "\n",
    "    category_transformer = Pipeline(steps=[\n",
    "        ('imputer', SimpleImputer(strategy='constant', fill_value='missing')),\n",
    "        ('encoder', OneHotEncoder(drop='first', handle_unknown='ignore'))\n",
    "    ])\n",
    "\n",
    "    # date_transformer = Pipeline(steps=[\n",
    "        \n",
    "    # ])\n",
    "    \n",
    "    preprocessor = ColumnTransformer(\n",
    "        transformers=[\n",
    "            ('numeric_features', numeric_transformer, numeric_features),\n",
    "            ('ordinal_features', ordinal_transformer, ordinal_features),\n",
    "            ('category_features', category_transformer, category_features)\n",
    "        ])\n",
    "\n",
    "    full_pipeline = Pipeline([\n",
    "        ('cleanse column names', CleanseColumnNames()),\n",
    "        ('feature engineering', FeatureEngineering()),\n",
    "        ('preprocessor', preprocessor),\n",
    "        ('regressor', LGBMRegressor())\n",
    "    ])\n",
    "    \n",
    "    return full_pipeline"
   ]
  },
  {
   "cell_type": "markdown",
   "metadata": {},
   "source": [
    "- Instead of imputing the median for numeric features build a model to predict the missing value\n",
    "    - start with predicting vehicle age\n",
    "\n",
    "- Need to engineer Policy Start Date \n",
    "    - assumption is the longer a person has had a policy the higher the price \n",
    "\n",
    "- The value of what is being insured really should determine the premium (but there is also incentive for maximizing profit) so use the proxy value features to create an 'estimated value' feature"
   ]
  },
  {
   "cell_type": "markdown",
   "metadata": {},
   "source": [
    "## Imputation: Predict Vehicle Age"
   ]
  },
  {
   "cell_type": "code",
   "execution_count": 4,
   "metadata": {},
   "outputs": [],
   "source": [
    "train_data = train_data[~train_data['Vehicle Age'].isna()]\n",
    "test_data = train_data[train_data['Vehicle Age'].isna()]"
   ]
  },
  {
   "cell_type": "code",
   "execution_count": 6,
   "metadata": {},
   "outputs": [],
   "source": [
    "train_data.drop('id', axis=1, inplace=True)\n",
    "# test_data.drop('id', axis=1, inplace=True)\n",
    "\n",
    "target = 'Vehicle Age'\n",
    "X = train_data.drop(target, axis=1)\n",
    "y = train_data[target]"
   ]
  },
  {
   "cell_type": "code",
   "execution_count": 7,
   "metadata": {},
   "outputs": [],
   "source": [
    "X_train, X_test, y_train, y_test = train_test_split(X, y, test_size=0.20, random_state=42)"
   ]
  },
  {
   "cell_type": "code",
   "execution_count": 11,
   "metadata": {},
   "outputs": [],
   "source": [
    "# numeric_features = X.select_dtypes(include='number').columns\n",
    "numeric_features = [\n",
    "    'age', \n",
    "    'annual_income', \n",
    "    'number_of_dependents', \n",
    "    'health_score',\n",
    "    'previous_claims', \n",
    "    # 'vehicle_age', \n",
    "    'credit_score', \n",
    "    'insurance_duration'\n",
    "]\n",
    "\n",
    "category_features = [\n",
    "    'marital_status',\n",
    "    'occupation',\n",
    "    'location',\n",
    "    'property_type',\n",
    "    'education_level',\n",
    "    'policy_type',\n",
    "    'customer_feedback',\n",
    "    'gender',\n",
    "    'smoking_status'\n",
    "]\n",
    "\n",
    "ordinal_features = ['exercise_frequency']\n",
    "\n",
    "ordinal_categories = {\n",
    "    'exercise_frequency': ['Rarely', 'Monthly', 'Weekly', 'Daily']\n",
    "}\n",
    "\n",
    "# date_features = ['policy_start_date']"
   ]
  },
  {
   "cell_type": "code",
   "execution_count": 12,
   "metadata": {},
   "outputs": [
    {
     "name": "stderr",
     "output_type": "stream",
     "text": [
      "/home/vscode/.local/lib/python3.12/site-packages/sklearn/utils/deprecation.py:151: FutureWarning: 'force_all_finite' was renamed to 'ensure_all_finite' in 1.6 and will be removed in 1.8.\n",
      "  warnings.warn(\n"
     ]
    },
    {
     "name": "stdout",
     "output_type": "stream",
     "text": [
      "[LightGBM] [Info] Auto-choosing row-wise multi-threading, the overhead of testing was 0.055706 seconds.\n",
      "You can set `force_row_wise=true` to remove the overhead.\n",
      "And if memory is not enough, you can set `force_col_wise=true`.\n",
      "[LightGBM] [Info] Total Bins 880\n",
      "[LightGBM] [Info] Number of data points in the train set: 959995, number of used features: 28\n",
      "[LightGBM] [Info] Start training from score 9.565900\n"
     ]
    }
   ],
   "source": [
    "pipeline = create_pipeline(\n",
    "    numeric_features=numeric_features, \n",
    "    ordinal_features=ordinal_features,\n",
    "    ordinal_categories=ordinal_categories,\n",
    "    category_features=category_features\n",
    "    )\n",
    "\n",
    "predict_vehicle_age = pipeline.fit(X_train, y_train)"
   ]
  },
  {
   "cell_type": "code",
   "execution_count": 13,
   "metadata": {},
   "outputs": [
    {
     "name": "stderr",
     "output_type": "stream",
     "text": [
      "/home/vscode/.local/lib/python3.12/site-packages/sklearn/utils/deprecation.py:151: FutureWarning: 'force_all_finite' was renamed to 'ensure_all_finite' in 1.6 and will be removed in 1.8.\n",
      "  warnings.warn(\n",
      "/home/vscode/.local/lib/python3.12/site-packages/sklearn/utils/_tags.py:354: FutureWarning: The LGBMRegressor or classes from which it inherits use `_get_tags` and `_more_tags`. Please define the `__sklearn_tags__` method, or inherit from `sklearn.base.BaseEstimator` and/or other appropriate mixins such as `sklearn.base.TransformerMixin`, `sklearn.base.ClassifierMixin`, `sklearn.base.RegressorMixin`, and `sklearn.base.OutlierMixin`. From scikit-learn 1.7, not defining `__sklearn_tags__` will raise an error.\n",
      "  warnings.warn(\n"
     ]
    }
   ],
   "source": [
    "# Make predictions\n",
    "y_pred = predict_vehicle_age.predict(X_test)"
   ]
  },
  {
   "cell_type": "code",
   "execution_count": 14,
   "metadata": {},
   "outputs": [
    {
     "data": {
      "text/plain": [
       "5.002807719305263"
      ]
     },
     "execution_count": 14,
     "metadata": {},
     "output_type": "execute_result"
    }
   ],
   "source": [
    "error = abs(y_pred - y_test)\n",
    "error.mean()"
   ]
  },
  {
   "cell_type": "code",
   "execution_count": 28,
   "metadata": {},
   "outputs": [
    {
     "name": "stderr",
     "output_type": "stream",
     "text": [
      "/home/vscode/.local/lib/python3.12/site-packages/sklearn/utils/deprecation.py:151: FutureWarning: 'force_all_finite' was renamed to 'ensure_all_finite' in 1.6 and will be removed in 1.8.\n",
      "  warnings.warn(\n",
      "/home/vscode/.local/lib/python3.12/site-packages/sklearn/utils/_tags.py:354: FutureWarning: The LGBMRegressor or classes from which it inherits use `_get_tags` and `_more_tags`. Please define the `__sklearn_tags__` method, or inherit from `sklearn.base.BaseEstimator` and/or other appropriate mixins such as `sklearn.base.TransformerMixin`, `sklearn.base.ClassifierMixin`, `sklearn.base.RegressorMixin`, and `sklearn.base.OutlierMixin`. From scikit-learn 1.7, not defining `__sklearn_tags__` will raise an error.\n",
      "  warnings.warn(\n"
     ]
    }
   ],
   "source": [
    "vehicle_age_imputation = predict_vehicle_age.predict(train_data)\n",
    "\n",
    "train_data['Vehicle Age'] = vehicle_age_imputation"
   ]
  },
  {
   "cell_type": "markdown",
   "metadata": {},
   "source": [
    "## Final Model"
   ]
  },
  {
   "cell_type": "code",
   "execution_count": 6,
   "metadata": {},
   "outputs": [],
   "source": [
    "# train_data.drop('id', axis=1, inplace=True)\n",
    "# test_data.drop('id', axis=1, inplace=True)\n",
    "\n",
    "target = 'Premium Amount'\n",
    "X = train_data.drop(target, axis=1)\n",
    "y = train_data[target]\n",
    "\n",
    "y_log = np.log1p(y)"
   ]
  },
  {
   "cell_type": "code",
   "execution_count": 31,
   "metadata": {},
   "outputs": [],
   "source": [
    "# test_data.drop('id', axis=1, inplace=True)"
   ]
  },
  {
   "cell_type": "code",
   "execution_count": 7,
   "metadata": {},
   "outputs": [],
   "source": [
    "X_train, X_test, y_train, y_test = train_test_split(X, y_log, test_size=0.20, random_state=42)"
   ]
  },
  {
   "cell_type": "markdown",
   "metadata": {},
   "source": [
    "## Predict"
   ]
  },
  {
   "cell_type": "code",
   "execution_count": 8,
   "metadata": {},
   "outputs": [],
   "source": [
    "# numeric_features = X.select_dtypes(include='number').columns\n",
    "numeric_features = [\n",
    "    'age', \n",
    "    'annual_income', \n",
    "    'number_of_dependents', \n",
    "    'health_score',\n",
    "    'previous_claims', \n",
    "    'vehicle_age', \n",
    "    'credit_score', \n",
    "    'insurance_duration',\n",
    "    'contract_length',\n",
    "    'income_per_dependent',\n",
    "    'credit_score_per_insurance_duration'\n",
    "]\n",
    "\n",
    "category_features = [\n",
    "    'marital_status',\n",
    "    'occupation',\n",
    "    'location',\n",
    "    'property_type',\n",
    "    'education_level',\n",
    "    'policy_type',\n",
    "    'customer_feedback',\n",
    "    'gender',\n",
    "    'smoking_status'\n",
    "]\n",
    "\n",
    "ordinal_features = ['exercise_frequency']\n",
    "\n",
    "ordinal_categories = {\n",
    "    'exercise_frequency': ['Rarely', 'Monthly', 'Weekly', 'Daily']\n",
    "}\n",
    "\n",
    "# date_features = ['policy_start_date']"
   ]
  },
  {
   "cell_type": "code",
   "execution_count": 9,
   "metadata": {},
   "outputs": [
    {
     "name": "stderr",
     "output_type": "stream",
     "text": [
      "INFO:root:CleanseColumnNames: Initial columns: ['id', 'Age', 'Gender', 'Annual Income', 'Marital Status', 'Number of Dependents', 'Education Level', 'Occupation', 'Health Score', 'Location', 'Policy Type', 'Previous Claims', 'Vehicle Age', 'Credit Score', 'Insurance Duration', 'Policy Start Date', 'Customer Feedback', 'Smoking Status', 'Exercise Frequency', 'Property Type']\n",
      "INFO:root:CleanseColumnNames: Transformed columns: ['id', 'age', 'gender', 'annual_income', 'marital_status', 'number_of_dependents', 'education_level', 'occupation', 'health_score', 'location', 'policy_type', 'previous_claims', 'vehicle_age', 'credit_score', 'insurance_duration', 'policy_start_date', 'customer_feedback', 'smoking_status', 'exercise_frequency', 'property_type']\n",
      "INFO:root:FeatureEngineering: Before:\n",
      "INFO:root:            id   age  gender  annual_income marital_status  \\\n",
      "404339  404339  45.0    Male        91315.0       Divorced   \n",
      "748487  748487  51.0  Female         5280.0        Married   \n",
      "435951  435951  48.0  Female        41318.0       Divorced   \n",
      "311284  311284  43.0  Female        30372.0       Divorced   \n",
      "318790  318790  18.0    Male        12891.0        Married   \n",
      "\n",
      "        number_of_dependents education_level  occupation  health_score  \\\n",
      "404339                   3.0      Bachelor's         NaN     43.926883   \n",
      "748487                   1.0             PhD         NaN     41.854227   \n",
      "435951                   0.0        Master's         NaN     51.750192   \n",
      "311284                   0.0             PhD  Unemployed     20.666786   \n",
      "318790                   NaN      Bachelor's         NaN     36.995102   \n",
      "\n",
      "       location    policy_type  previous_claims  vehicle_age  credit_score  \\\n",
      "404339    Urban  Comprehensive              NaN          1.0         311.0   \n",
      "748487    Rural          Basic              NaN          1.0         634.0   \n",
      "435951    Urban  Comprehensive              1.0         12.0         759.0   \n",
      "311284    Urban  Comprehensive              2.0          8.0         460.0   \n",
      "318790    Urban          Basic              NaN         18.0         831.0   \n",
      "\n",
      "        insurance_duration           policy_start_date customer_feedback  \\\n",
      "404339                 2.0  2024-08-11 15:21:39.134960              Poor   \n",
      "748487                 8.0  2020-06-20 15:21:39.098696              Poor   \n",
      "435951                 9.0  2021-02-05 15:21:39.134960              Poor   \n",
      "311284                 1.0  2022-11-11 15:21:39.093681           Average   \n",
      "318790                 3.0  2021-01-01 15:21:39.095696              Poor   \n",
      "\n",
      "       smoking_status exercise_frequency property_type  \n",
      "404339             No             Rarely         House  \n",
      "748487            Yes            Monthly         Condo  \n",
      "435951            Yes             Rarely         Condo  \n",
      "311284             No            Monthly         Condo  \n",
      "318790            Yes            Monthly     Apartment  \n",
      "INFO:root:FeatureEngineering: After:\n",
      "INFO:root:            id   age  gender  annual_income marital_status  \\\n",
      "404339  404339  45.0    Male        91315.0       Divorced   \n",
      "748487  748487  51.0  Female         5280.0        Married   \n",
      "435951  435951  48.0  Female        41318.0       Divorced   \n",
      "311284  311284  43.0  Female        30372.0       Divorced   \n",
      "318790  318790  18.0    Male        12891.0        Married   \n",
      "\n",
      "        number_of_dependents education_level  occupation  health_score  \\\n",
      "404339                   3.0      Bachelor's         NaN     43.926883   \n",
      "748487                   1.0             PhD         NaN     41.854227   \n",
      "435951                   0.0        Master's         NaN     51.750192   \n",
      "311284                   0.0             PhD  Unemployed     20.666786   \n",
      "318790                   NaN      Bachelor's         NaN     36.995102   \n",
      "\n",
      "       location  ... credit_score  insurance_duration  \\\n",
      "404339    Urban  ...        311.0                 2.0   \n",
      "748487    Rural  ...        634.0                 8.0   \n",
      "435951    Urban  ...        759.0                 9.0   \n",
      "311284    Urban  ...        460.0                 1.0   \n",
      "318790    Urban  ...        831.0                 3.0   \n",
      "\n",
      "                 policy_start_date  customer_feedback  smoking_status  \\\n",
      "404339  2024-08-11 15:21:39.134960               Poor              No   \n",
      "748487  2020-06-20 15:21:39.098696               Poor             Yes   \n",
      "435951  2021-02-05 15:21:39.134960               Poor             Yes   \n",
      "311284  2022-11-11 15:21:39.093681            Average              No   \n",
      "318790  2021-01-01 15:21:39.095696               Poor             Yes   \n",
      "\n",
      "       exercise_frequency property_type contract_length income_per_dependent  \\\n",
      "404339             Rarely         House               1         30438.333333   \n",
      "748487            Monthly         Condo               2          5280.000000   \n",
      "435951             Rarely         Condo               2         41318.000000   \n",
      "311284            Monthly         Condo               0         30372.000000   \n",
      "318790            Monthly     Apartment               1                  NaN   \n",
      "\n",
      "       credit_score_per_insurance_duration  \n",
      "404339                          155.500000  \n",
      "748487                           79.250000  \n",
      "435951                           84.333333  \n",
      "311284                          460.000000  \n",
      "318790                          277.000000  \n",
      "\n",
      "[5 rows x 23 columns]\n",
      "/home/vscode/.local/lib/python3.12/site-packages/sklearn/utils/deprecation.py:151: FutureWarning: 'force_all_finite' was renamed to 'ensure_all_finite' in 1.6 and will be removed in 1.8.\n",
      "  warnings.warn(\n"
     ]
    },
    {
     "name": "stdout",
     "output_type": "stream",
     "text": [
      "[LightGBM] [Info] Auto-choosing row-wise multi-threading, the overhead of testing was 0.118144 seconds.\n",
      "You can set `force_row_wise=true` to remove the overhead.\n",
      "And if memory is not enough, you can set `force_col_wise=true`.\n",
      "[LightGBM] [Info] Total Bins 1414\n",
      "[LightGBM] [Info] Number of data points in the train set: 960000, number of used features: 32\n",
      "[LightGBM] [Info] Start training from score 6.593848\n"
     ]
    }
   ],
   "source": [
    "pipeline = create_pipeline(\n",
    "    numeric_features=numeric_features, \n",
    "    ordinal_features=ordinal_features,\n",
    "    ordinal_categories=ordinal_categories,\n",
    "    category_features=category_features\n",
    "    )\n",
    "\n",
    "predict_premium_amount = pipeline.fit(X_train, y_train)"
   ]
  },
  {
   "cell_type": "code",
   "execution_count": 10,
   "metadata": {},
   "outputs": [
    {
     "name": "stderr",
     "output_type": "stream",
     "text": [
      "INFO:root:CleanseColumnNames: Initial columns: ['id', 'Age', 'Gender', 'Annual Income', 'Marital Status', 'Number of Dependents', 'Education Level', 'Occupation', 'Health Score', 'Location', 'Policy Type', 'Previous Claims', 'Vehicle Age', 'Credit Score', 'Insurance Duration', 'Policy Start Date', 'Customer Feedback', 'Smoking Status', 'Exercise Frequency', 'Property Type']\n",
      "INFO:root:CleanseColumnNames: Transformed columns: ['id', 'age', 'gender', 'annual_income', 'marital_status', 'number_of_dependents', 'education_level', 'occupation', 'health_score', 'location', 'policy_type', 'previous_claims', 'vehicle_age', 'credit_score', 'insurance_duration', 'policy_start_date', 'customer_feedback', 'smoking_status', 'exercise_frequency', 'property_type']\n",
      "INFO:root:FeatureEngineering: Before:\n",
      "INFO:root:        id   age  gender  annual_income marital_status  number_of_dependents  \\\n",
      "0  1200000  28.0  Female         2310.0            NaN                   4.0   \n",
      "1  1200001  31.0  Female       126031.0        Married                   2.0   \n",
      "2  1200002  47.0  Female        17092.0       Divorced                   0.0   \n",
      "3  1200003  28.0  Female        30424.0       Divorced                   3.0   \n",
      "4  1200004  24.0    Male        10863.0       Divorced                   2.0   \n",
      "\n",
      "  education_level     occupation  health_score  location    policy_type  \\\n",
      "0      Bachelor's  Self-Employed      7.657981     Rural          Basic   \n",
      "1        Master's  Self-Employed     13.381379  Suburban        Premium   \n",
      "2             PhD     Unemployed     24.354527     Urban  Comprehensive   \n",
      "3             PhD  Self-Employed      5.136225  Suburban  Comprehensive   \n",
      "4     High School     Unemployed     11.844155  Suburban        Premium   \n",
      "\n",
      "   previous_claims  vehicle_age  credit_score  insurance_duration  \\\n",
      "0              NaN         19.0           NaN                 1.0   \n",
      "1              NaN         14.0         372.0                 8.0   \n",
      "2              NaN         16.0         819.0                 9.0   \n",
      "3              1.0          3.0         770.0                 5.0   \n",
      "4              NaN         14.0         755.0                 7.0   \n",
      "\n",
      "            policy_start_date customer_feedback smoking_status  \\\n",
      "0  2023-06-04 15:21:39.245086              Poor            Yes   \n",
      "1  2024-04-22 15:21:39.224915              Good            Yes   \n",
      "2  2023-04-05 15:21:39.134960           Average            Yes   \n",
      "3  2023-10-25 15:21:39.134960              Poor            Yes   \n",
      "4  2021-11-26 15:21:39.259788           Average             No   \n",
      "\n",
      "  exercise_frequency property_type  \n",
      "0             Weekly         House  \n",
      "1             Rarely     Apartment  \n",
      "2            Monthly         Condo  \n",
      "3              Daily         House  \n",
      "4             Weekly         House  \n",
      "INFO:root:FeatureEngineering: After:\n",
      "INFO:root:        id   age  gender  annual_income marital_status  number_of_dependents  \\\n",
      "0  1200000  28.0  Female         2310.0            NaN                   4.0   \n",
      "1  1200001  31.0  Female       126031.0        Married                   2.0   \n",
      "2  1200002  47.0  Female        17092.0       Divorced                   0.0   \n",
      "3  1200003  28.0  Female        30424.0       Divorced                   3.0   \n",
      "4  1200004  24.0    Male        10863.0       Divorced                   2.0   \n",
      "\n",
      "  education_level     occupation  health_score  location  ... credit_score  \\\n",
      "0      Bachelor's  Self-Employed      7.657981     Rural  ...          NaN   \n",
      "1        Master's  Self-Employed     13.381379  Suburban  ...        372.0   \n",
      "2             PhD     Unemployed     24.354527     Urban  ...        819.0   \n",
      "3             PhD  Self-Employed      5.136225  Suburban  ...        770.0   \n",
      "4     High School     Unemployed     11.844155  Suburban  ...        755.0   \n",
      "\n",
      "   insurance_duration           policy_start_date  customer_feedback  \\\n",
      "0                 1.0  2023-06-04 15:21:39.245086               Poor   \n",
      "1                 8.0  2024-04-22 15:21:39.224915               Good   \n",
      "2                 9.0  2023-04-05 15:21:39.134960            Average   \n",
      "3                 5.0  2023-10-25 15:21:39.134960               Poor   \n",
      "4                 7.0  2021-11-26 15:21:39.259788            Average   \n",
      "\n",
      "   smoking_status exercise_frequency property_type contract_length  \\\n",
      "0             Yes             Weekly         House               0   \n",
      "1             Yes             Rarely     Apartment               2   \n",
      "2             Yes            Monthly         Condo               2   \n",
      "3             Yes              Daily         House               2   \n",
      "4              No             Weekly         House               2   \n",
      "\n",
      "  income_per_dependent credit_score_per_insurance_duration  \n",
      "0           577.500000                                 NaN  \n",
      "1         63015.500000                           46.500000  \n",
      "2         17092.000000                           91.000000  \n",
      "3         10141.333333                          154.000000  \n",
      "4          5431.500000                          107.857143  \n",
      "\n",
      "[5 rows x 23 columns]\n",
      "/home/vscode/.local/lib/python3.12/site-packages/sklearn/utils/deprecation.py:151: FutureWarning: 'force_all_finite' was renamed to 'ensure_all_finite' in 1.6 and will be removed in 1.8.\n",
      "  warnings.warn(\n",
      "/home/vscode/.local/lib/python3.12/site-packages/sklearn/utils/_tags.py:354: FutureWarning: The LGBMRegressor or classes from which it inherits use `_get_tags` and `_more_tags`. Please define the `__sklearn_tags__` method, or inherit from `sklearn.base.BaseEstimator` and/or other appropriate mixins such as `sklearn.base.TransformerMixin`, `sklearn.base.ClassifierMixin`, `sklearn.base.RegressorMixin`, and `sklearn.base.OutlierMixin`. From scikit-learn 1.7, not defining `__sklearn_tags__` will raise an error.\n",
      "  warnings.warn(\n"
     ]
    }
   ],
   "source": [
    "# Make predictions\n",
    "y_pred = pipeline.predict(test_data)\n",
    "y_pred = np.expm1(y_pred)"
   ]
  },
  {
   "cell_type": "markdown",
   "metadata": {},
   "source": [
    "# Submission"
   ]
  },
  {
   "cell_type": "code",
   "execution_count": 11,
   "metadata": {},
   "outputs": [],
   "source": [
    "sample_submission = pd.read_csv('data/sample_submission.csv')"
   ]
  },
  {
   "cell_type": "code",
   "execution_count": 12,
   "metadata": {},
   "outputs": [],
   "source": [
    "sample_submission['Premium Amount'] = y_pred\n",
    "sample_submission.to_csv('data/submission.csv', index=False)"
   ]
  }
 ],
 "metadata": {
  "kernelspec": {
   "display_name": "Python 3",
   "language": "python",
   "name": "python3"
  },
  "language_info": {
   "codemirror_mode": {
    "name": "ipython",
    "version": 3
   },
   "file_extension": ".py",
   "mimetype": "text/x-python",
   "name": "python",
   "nbconvert_exporter": "python",
   "pygments_lexer": "ipython3",
   "version": "3.12.8"
  }
 },
 "nbformat": 4,
 "nbformat_minor": 2
}
