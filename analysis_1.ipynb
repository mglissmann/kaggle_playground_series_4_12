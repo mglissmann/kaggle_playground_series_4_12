{
 "cells": [
  {
   "cell_type": "markdown",
   "metadata": {},
   "source": [
    "# Imports"
   ]
  },
  {
   "cell_type": "code",
   "execution_count": 27,
   "metadata": {},
   "outputs": [
    {
     "name": "stderr",
     "output_type": "stream",
     "text": [
      "/home/vscode/.local/lib/python3.12/site-packages/tqdm/auto.py:21: TqdmWarning: IProgress not found. Please update jupyter and ipywidgets. See https://ipywidgets.readthedocs.io/en/stable/user_install.html\n",
      "  from .autonotebook import tqdm as notebook_tqdm\n"
     ]
    }
   ],
   "source": [
    "import pandas as pd \n",
    "import numpy as np \n",
    "import matplotlib.pyplot as plt \n",
    "import seaborn as sns \n",
    "import random \n",
    "\n",
    "from sklearn.model_selection import train_test_split, KFold\n",
    "from sklearn.ensemble import VotingRegressor\n",
    "from sklearn.metrics import mean_squared_log_error \n",
    "from sklearn.preprocessing import StandardScaler, LabelEncoder, OrdinalEncoder\n",
    "\n",
    "from xgboost import XGBRegressor\n",
    "from lightgbm import LGBMRegressor, early_stopping \n",
    "# from catboost import CatBoostRegressor\n",
    "\n",
    "import optuna"
   ]
  },
  {
   "cell_type": "code",
   "execution_count": 28,
   "metadata": {},
   "outputs": [],
   "source": [
    "random.seed(42)"
   ]
  },
  {
   "cell_type": "markdown",
   "metadata": {},
   "source": [
    "# Reading Data"
   ]
  },
  {
   "cell_type": "code",
   "execution_count": 30,
   "metadata": {},
   "outputs": [],
   "source": [
    "sample_submission = pd.read_csv('data/sample_submission.csv')\n",
    "test_data = pd.read_csv('data/test.csv')\n",
    "train_data = pd.read_csv('data/train.csv')"
   ]
  },
  {
   "cell_type": "markdown",
   "metadata": {},
   "source": [
    "# Exploring Data"
   ]
  },
  {
   "cell_type": "code",
   "execution_count": 31,
   "metadata": {},
   "outputs": [
    {
     "name": "stdout",
     "output_type": "stream",
     "text": [
      "Train data:\n",
      "Columns: 21 | Rows: 1200000\n",
      "-----------------------------\n",
      "Test data:\n",
      "Columns: 20 | Rows: 800000\n"
     ]
    }
   ],
   "source": [
    "print('Train data:')\n",
    "print(f'Columns: {train_data.shape[1]} | Rows: {train_data.shape[0]}')\n",
    "print('-----------------------------')\n",
    "print('Test data:')\n",
    "print(f'Columns: {test_data.shape[1]} | Rows: {test_data.shape[0]}')"
   ]
  },
  {
   "cell_type": "code",
   "execution_count": 33,
   "metadata": {},
   "outputs": [],
   "source": [
    "new_cols = []\n",
    "for col in train_data.columns:\n",
    "    new_cols.append(col.lower().replace(' ', '_'))\n",
    "    \n",
    "train_data.columns = new_cols\n",
    "\n",
    "\n",
    "new_cols = []\n",
    "for col in test_data.columns:\n",
    "    new_cols.append(col.lower().replace(' ', '_'))\n",
    "\n",
    "test_data.columns = new_cols"
   ]
  },
  {
   "cell_type": "code",
   "execution_count": 35,
   "metadata": {},
   "outputs": [
    {
     "name": "stdout",
     "output_type": "stream",
     "text": [
      "<class 'pandas.core.frame.DataFrame'>\n",
      "RangeIndex: 1200000 entries, 0 to 1199999\n",
      "Data columns (total 21 columns):\n",
      " #   Column                Non-Null Count    Dtype  \n",
      "---  ------                --------------    -----  \n",
      " 0   id                    1200000 non-null  int64  \n",
      " 1   age                   1181295 non-null  float64\n",
      " 2   gender                1200000 non-null  object \n",
      " 3   annual_income         1155051 non-null  float64\n",
      " 4   marital_status        1181471 non-null  object \n",
      " 5   number_of_dependents  1090328 non-null  float64\n",
      " 6   education_level       1200000 non-null  object \n",
      " 7   occupation            841925 non-null   object \n",
      " 8   health_score          1125924 non-null  float64\n",
      " 9   location              1200000 non-null  object \n",
      " 10  policy_type           1200000 non-null  object \n",
      " 11  previous_claims       835971 non-null   float64\n",
      " 12  vehicle_age           1199994 non-null  float64\n",
      " 13  credit_score          1062118 non-null  float64\n",
      " 14  insurance_duration    1199999 non-null  float64\n",
      " 15  policy_start_date     1200000 non-null  object \n",
      " 16  customer_feedback     1122176 non-null  object \n",
      " 17  smoking_status        1200000 non-null  object \n",
      " 18  exercise_frequency    1200000 non-null  object \n",
      " 19  property_type         1200000 non-null  object \n",
      " 20  premium_amount        1200000 non-null  float64\n",
      "dtypes: float64(9), int64(1), object(11)\n",
      "memory usage: 192.3+ MB\n"
     ]
    }
   ],
   "source": [
    "train_data.info()"
   ]
  },
  {
   "cell_type": "markdown",
   "metadata": {},
   "source": [
    "# Preprocessing Data"
   ]
  },
  {
   "cell_type": "code",
   "execution_count": 36,
   "metadata": {},
   "outputs": [],
   "source": [
    "def fill_nan_columns(data):\n",
    "    numeric_columns = data.select_dtypes(include=['number']).columns\n",
    "    for col in numeric_columns:\n",
    "        data[col].fillna(data[col].median(), inplace=True)\n",
    "    \n",
    "    object_columns = data.select_dtypes(include=['object']).columns\n",
    "    for col in object_columns:\n",
    "        data[col].fillna(\"Unknown\", inplace=True)"
   ]
  },
  {
   "cell_type": "code",
   "execution_count": 37,
   "metadata": {},
   "outputs": [],
   "source": [
    "binary_columns = ['gender', 'smoking_status']\n",
    "\n",
    "dummy_columns = [\n",
    "    'marital_status',\n",
    "    'occupation',\n",
    "    'location',\n",
    "    'property_type',\n",
    "    'education_level',\n",
    "    'policy_type',\n",
    "    'customer_feedback'\n",
    "]\n",
    "\n",
    "ordinal_columns = {\n",
    "    'exercise_frequency': ['Rarely', 'Monthly', 'Weekly', 'Daily']\n",
    "}\n"
   ]
  },
  {
   "cell_type": "code",
   "execution_count": 39,
   "metadata": {},
   "outputs": [
    {
     "data": {
      "text/plain": [
       "dict_items([('exercise_frequency', ['Rarely', 'Monthly', 'Weekly', 'Daily'])])"
      ]
     },
     "execution_count": 39,
     "metadata": {},
     "output_type": "execute_result"
    }
   ],
   "source": [
    "ordinal_columns.items()"
   ]
  },
  {
   "cell_type": "code",
   "execution_count": 40,
   "metadata": {},
   "outputs": [],
   "source": [
    "def encode_features(train_data, test_data):\n",
    "    # encode binary features\n",
    "    le = LabelEncoder()\n",
    "    for feature in binary_columns:\n",
    "        train_data[feature] = le.fit_transform(train_data[feature])\n",
    "        test_data[feature] = le.fit_transform(test_data[feature])\n",
    "    \n",
    "    # encode ordinal features\n",
    "    for feature, order in ordinal_columns.items():\n",
    "        oe = OrdinalEncoder(categories=[order])\n",
    "        train_data[feature] = oe.fit_transform(train_data[[feature]]).flatten()\n",
    "        test_data[feature] = oe.fit_transform(test_data[[feature]]).flatten() \n",
    "    \n",
    "    # encode categorical features\n",
    "    train_data = pd.get_dummies(train_data, columns=dummy_columns, drop_first=True)\n",
    "    test_data = pd.get_dummies(test_data, columns=dummy_columns, drop_first=True)\n",
    "    \n",
    "    return train_data, test_data\n",
    "    "
   ]
  },
  {
   "cell_type": "code",
   "execution_count": 41,
   "metadata": {},
   "outputs": [],
   "source": [
    "def preprocess_datetime_columns(data):\n",
    "    data['policy_start_date'] = pd.to_datetime(data['policy_start_date'])\n",
    "    data['policy_start_date'] = data['policy_start_date'].astype(np.int64) / 10**9 # converts nanoseconds to seconds from epoch\n",
    "    return data"
   ]
  },
  {
   "cell_type": "code",
   "execution_count": null,
   "metadata": {},
   "outputs": [],
   "source": []
  }
 ],
 "metadata": {
  "kernelspec": {
   "display_name": "Python 3",
   "language": "python",
   "name": "python3"
  },
  "language_info": {
   "codemirror_mode": {
    "name": "ipython",
    "version": 3
   },
   "file_extension": ".py",
   "mimetype": "text/x-python",
   "name": "python",
   "nbconvert_exporter": "python",
   "pygments_lexer": "ipython3",
   "version": "3.12.8"
  }
 },
 "nbformat": 4,
 "nbformat_minor": 2
}
