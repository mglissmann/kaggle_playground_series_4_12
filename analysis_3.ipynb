{
 "cells": [
  {
   "cell_type": "code",
   "execution_count": 93,
   "metadata": {},
   "outputs": [],
   "source": [
    "from sklearn.pipeline import Pipeline\n",
    "from sklearn.compose import ColumnTransformer\n",
    "from sklearn.preprocessing import StandardScaler, OneHotEncoder, OrdinalEncoder\n",
    "from sklearn.impute import SimpleImputer\n",
    "from sklearn.metrics import make_scorer, mean_squared_error, r2_score, root_mean_squared_log_error\n",
    "from sklearn.model_selection import cross_val_score, train_test_split\n",
    "from sklearn.base import BaseEstimator, TransformerMixin\n",
    "from sklearn.ensemble import GradientBoostingRegressor\n",
    "import numpy as np\n",
    "import logging\n",
    "from lightgbm import LGBMRegressor\n",
    "\n",
    "# Configure logging\n",
    "logging.basicConfig(level=logging.INFO)"
   ]
  },
  {
   "cell_type": "code",
   "execution_count": 42,
   "metadata": {},
   "outputs": [],
   "source": [
    "train_data = pd.read_csv(filepath_or_buffer='data/train.csv', nrows=1000)\n",
    "test_data = pd.read_csv(filepath_or_buffer='data/test.csv', nrows=1000)"
   ]
  },
  {
   "cell_type": "code",
   "execution_count": 53,
   "metadata": {},
   "outputs": [],
   "source": [
    "def clean_feature_names(df):\n",
    "    df = df.rename(columns=lambda x: x.lower().replace(' ', '_'))\n",
    "    return df"
   ]
  },
  {
   "cell_type": "code",
   "execution_count": 58,
   "metadata": {},
   "outputs": [],
   "source": [
    "predictors = [\n",
    "    'age', \n",
    "    'gender', \n",
    "    'annual_income', \n",
    "    'marital_status',\n",
    "    'number_of_dependents', \n",
    "    'education_level', \n",
    "    'occupation', \n",
    "    'health_score',\n",
    "    'location', \n",
    "    'policy_type', \n",
    "    'previous_claims', \n",
    "    'vehicle_age',\n",
    "    'credit_score', \n",
    "    'insurance_duration', \n",
    "    'policy_start_date',\n",
    "    'customer_feedback', \n",
    "    'smoking_status', \n",
    "    'exercise_frequency',\n",
    "    'property_type'\n",
    "]\n",
    "\n",
    "target = 'premium_amount'"
   ]
  },
  {
   "cell_type": "code",
   "execution_count": 60,
   "metadata": {},
   "outputs": [],
   "source": [
    "X = train_data[predictors]\n",
    "y = train_data[target]\n",
    "\n",
    "y_log = np.log1p(y)\n",
    "\n",
    "X_train, X_test, y_train, y_test = train_test_split(X, y_log, test_size=0.20, random_state=42)"
   ]
  },
  {
   "cell_type": "code",
   "execution_count": 82,
   "metadata": {},
   "outputs": [],
   "source": [
    "def estimator_pipeline(estimator=estimator , numeric_features=None, ordinal_features=None, ordinal_categories=None, category_features=None):\n",
    "    \n",
    "    numeric_transformer = Pipeline(steps=[\n",
    "        ('imputer', SimpleImputer(strategy='median')),\n",
    "        ('scaler', StandardScaler())   \n",
    "    ])\n",
    "\n",
    "    ordinal_transformer = Pipeline(steps=[\n",
    "        ('imputer', SimpleImputer(strategy='constant', fill_value='missing')),\n",
    "        ('encoder', OrdinalEncoder(categories=[ordinal_categories['exercise_frequency']], handle_unknown='use_encoded_value', unknown_value=-1))\n",
    "    ])\n",
    "\n",
    "    category_transformer = Pipeline(steps=[\n",
    "        ('imputer', SimpleImputer(strategy='constant', fill_value='missing')),\n",
    "        ('encoder', OneHotEncoder(drop='first', handle_unknown='ignore'))\n",
    "    ])\n",
    "    \n",
    "    preprocessor = ColumnTransformer(\n",
    "        transformers=[\n",
    "            ('numeric_features', numeric_transformer, numeric_features),\n",
    "            ('ordinal_features', ordinal_transformer, ordinal_features),\n",
    "            ('category_features', category_transformer, category_features)\n",
    "        ])\n",
    "\n",
    "    full_pipeline = Pipeline([\n",
    "        ('preprocessor', preprocessor),\n",
    "        ('regressor', estimator)\n",
    "    ])\n",
    "    \n",
    "    return full_pipeline"
   ]
  },
  {
   "cell_type": "code",
   "execution_count": 83,
   "metadata": {},
   "outputs": [],
   "source": [
    "# Features\n",
    "numeric_features = [\n",
    "    'age', \n",
    "    'annual_income', \n",
    "    'number_of_dependents', \n",
    "    'health_score',\n",
    "    'previous_claims', \n",
    "    'vehicle_age', \n",
    "    'credit_score', \n",
    "    'insurance_duration'\n",
    "]\n",
    "\n",
    "category_features = [\n",
    "    'marital_status',\n",
    "    'occupation',\n",
    "    'location',\n",
    "    'property_type',\n",
    "    'education_level',\n",
    "    'policy_type',\n",
    "    'customer_feedback',\n",
    "    'gender',\n",
    "    'smoking_status'\n",
    "]\n",
    "\n",
    "ordinal_features = ['exercise_frequency']\n",
    "\n",
    "ordinal_categories = {\n",
    "    'exercise_frequency': ['Rarely', 'Monthly', 'Weekly', 'Daily']\n",
    "}\n",
    "\n",
    "date_features = ['policy_start_date']"
   ]
  },
  {
   "cell_type": "code",
   "execution_count": 89,
   "metadata": {},
   "outputs": [],
   "source": [
    "# Estimator\n",
    "estimator = GradientBoostingRegressor(loss='squared_error', random_state=0)"
   ]
  },
  {
   "cell_type": "code",
   "execution_count": null,
   "metadata": {},
   "outputs": [
    {
     "name": "stdout",
     "output_type": "stream",
     "text": [
      "Scores: [-749.36527509 -655.84647474 -634.1363926  -667.7209729  -710.86681771]\n",
      "Avg Score: -683.5871866076837\n"
     ]
    }
   ],
   "source": [
    "GradientBoostingRegressor_pipeline = estimator_pipeline(\n",
    "    estimator=estimator, \n",
    "    numeric_features=numeric_features, \n",
    "    ordinal_features=ordinal_features, \n",
    "    ordinal_categories=ordinal_categories, \n",
    "    category_features=category_features\n",
    "    )\n",
    "\n",
    "GradientBoostingRegressor_pipeline = GradientBoostingRegressor_pipeline.fit(X_train, y_train)\n"
   ]
  },
  {
   "cell_type": "code",
   "execution_count": 94,
   "metadata": {},
   "outputs": [],
   "source": [
    "# Create scorer\n",
    "scorer = make_scorer(lambda y, y_pred: root_mean_squared_log_error(y, y_pred), greater_is_better=False)"
   ]
  },
  {
   "cell_type": "code",
   "execution_count": 95,
   "metadata": {},
   "outputs": [
    {
     "name": "stdout",
     "output_type": "stream",
     "text": [
      "Scores: [-1.28069587 -1.14623133 -1.25134406 -1.24300994 -1.11204105]\n",
      "Avg Score: -1.2066644504782917\n"
     ]
    }
   ],
   "source": [
    "scores = cross_val_score(GradientBoostingRegressor_pipeline, X, y, scoring=scorer, cv=5)\n",
    "print(f'Scores: {scores}')\n",
    "print(f'Avg Score: {scores.mean()}')"
   ]
  },
  {
   "cell_type": "code",
   "execution_count": 90,
   "metadata": {},
   "outputs": [
    {
     "data": {
      "text/plain": [
       "-0.11155031009792515"
      ]
     },
     "execution_count": 90,
     "metadata": {},
     "output_type": "execute_result"
    }
   ],
   "source": [
    "GradientBoostingRegressor_pipeline.score(X_test, y_test)"
   ]
  },
  {
   "cell_type": "code",
   "execution_count": null,
   "metadata": {},
   "outputs": [],
   "source": [
    "from sklearn.metrics import mean_squared_log_error\n",
    "from sklearn.ensemble import GradientBoostingRegressor\n",
    "from sklearn.model_selection import GridSearchCV\n",
    "from sklearn.metrics import make_scorer\n",
    "import numpy as np\n",
    "\n",
    "# Create scorer using sklearn's metric\n",
    "rmsle_scorer = make_scorer(lambda y, y_pred: np.sqrt(mean_squared_log_error(y, y_pred)), \n",
    "                          greater_is_better=False)\n",
    "\n",
    "param_grid = {\n",
    "    'n_estimators': [100, 200, 300],\n",
    "    'learning_rate': [0.01, 0.05, 0.1],\n",
    "    'max_depth': [3, 4, 5],\n",
    "    'min_samples_split': [2, 5, 10],\n",
    "    'subsample': [0.8, 0.9, 1.0]\n",
    "}\n",
    "\n",
    "gb_model = GradientBoostingRegressor(random_state=42)\n",
    "\n",
    "grid_search = GridSearchCV(\n",
    "    estimator=gb_model,\n",
    "    param_grid=param_grid,\n",
    "    scoring=rmsle_scorer,\n",
    "    cv=5,\n",
    "    n_jobs=-1,\n",
    "    verbose=1\n",
    ")"
   ]
  }
 ],
 "metadata": {
  "kernelspec": {
   "display_name": "Python 3",
   "language": "python",
   "name": "python3"
  },
  "language_info": {
   "codemirror_mode": {
    "name": "ipython",
    "version": 3
   },
   "file_extension": ".py",
   "mimetype": "text/x-python",
   "name": "python",
   "nbconvert_exporter": "python",
   "pygments_lexer": "ipython3",
   "version": "3.12.8"
  }
 },
 "nbformat": 4,
 "nbformat_minor": 2
}
